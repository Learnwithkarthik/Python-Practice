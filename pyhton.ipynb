{
  "nbformat": 4,
  "nbformat_minor": 0,
  "metadata": {
    "colab": {
      "provenance": [],
      "authorship_tag": "ABX9TyPWtYIJbBHIjuGPtsG/pFit",
      "include_colab_link": true
    },
    "kernelspec": {
      "name": "python3",
      "display_name": "Python 3"
    },
    "language_info": {
      "name": "python"
    }
  },
  "cells": [
    {
      "cell_type": "markdown",
      "metadata": {
        "id": "view-in-github",
        "colab_type": "text"
      },
      "source": [
        "<a href=\"https://colab.research.google.com/github/Learnwithkarthik/Python-Practice/blob/main/pyhton.ipynb\" target=\"_parent\"><img src=\"https://colab.research.google.com/assets/colab-badge.svg\" alt=\"Open In Colab\"/></a>"
      ]
    },
    {
      "cell_type": "markdown",
      "source": [
        "string:\n",
        "\n",
        "it should be represent in '' or \" \" or ''' '''\n",
        "\n",
        "its a datatype\n",
        "\n",
        "it can store in some variable or assigned to some variable"
      ],
      "metadata": {
        "id": "mav4R_4fMRUb"
      }
    },
    {
      "cell_type": "code",
      "execution_count": 2,
      "metadata": {
        "colab": {
          "base_uri": "https://localhost:8080/"
        },
        "id": "PT3UL8KPLZvx",
        "outputId": "e25b0677-2a86-4ebf-a674-192968498382"
      },
      "outputs": [
        {
          "output_type": "stream",
          "name": "stdout",
          "text": [
            "<class 'str'>\n"
          ]
        }
      ],
      "source": [
        "a = \"karthik\"\n",
        "print(type(a))"
      ]
    },
    {
      "cell_type": "code",
      "source": [
        "a = ''' karthik is awesome\n",
        "     sdfjsldkflksadf'''\n",
        "print(type(a))"
      ],
      "metadata": {
        "colab": {
          "base_uri": "https://localhost:8080/"
        },
        "id": "6B-qwiXiM3-L",
        "outputId": "1b9222a1-4cf5-4b28-e8dc-3ac726a18c0d"
      },
      "execution_count": 3,
      "outputs": [
        {
          "output_type": "stream",
          "name": "stdout",
          "text": [
            "<class 'str'>\n"
          ]
        }
      ]
    },
    {
      "cell_type": "markdown",
      "source": [
        "Indexing in string:\n",
        "\n",
        "a = \"karthik\"\n",
        "\n",
        "a = 0123456(positive Index)\n",
        "\n",
        "or\n",
        "\n",
        "a = -6 -5 -4 -3 -2 -1(Negative Index)"
      ],
      "metadata": {
        "id": "nayyCOI1NB5m"
      }
    },
    {
      "cell_type": "code",
      "source": [
        "string = \"Karthikeya\"\n",
        "\n",
        "print(string[0])"
      ],
      "metadata": {
        "colab": {
          "base_uri": "https://localhost:8080/"
        },
        "id": "nq6xTFQiNBkP",
        "outputId": "49f3412b-0681-4aa9-a1eb-d10e4bee32dd"
      },
      "execution_count": 4,
      "outputs": [
        {
          "output_type": "stream",
          "name": "stdout",
          "text": [
            "K\n"
          ]
        }
      ]
    },
    {
      "cell_type": "code",
      "source": [
        "print(string[-1])"
      ],
      "metadata": {
        "colab": {
          "base_uri": "https://localhost:8080/"
        },
        "id": "BHuXiW5qO8B1",
        "outputId": "a42af097-44b4-4a3d-bc2a-8282e61caa78"
      },
      "execution_count": 5,
      "outputs": [
        {
          "output_type": "stream",
          "name": "stdout",
          "text": [
            "a\n"
          ]
        }
      ]
    },
    {
      "cell_type": "markdown",
      "source": [
        "Slicing in Python strings:\n",
        "\n",
        "string = \"karthikeya\"\n",
        "\n",
        "print(string[1:3])\n",
        "\n",
        "ar\n",
        "\n",
        "\n",
        "print(s[1:3]) ----> start and stop and need to neglect 3rd index so:\n",
        "\n",
        "ar\n",
        "\n",
        "print(s[1:-1])\n",
        "\n",
        "arthikey\n",
        "\n",
        "\n",
        "\n",
        "print(s[:3])\n",
        "\n",
        "kar\n",
        "\n",
        "print(s[2:])\n",
        "\n",
        "rthik\n",
        "\n",
        "print(s[:-1])\n",
        "\n",
        "karthi\n",
        "\n",
        "\n",
        "print(s[::2])-------> start stop step -----> need to skip 2 characters\n",
        "\n",
        "karthik\n",
        "\n",
        "0123456\n",
        "\n",
        "krhk\n",
        "\n",
        "\n",
        "print(s[1::2]) ------> start, stop, skip\n",
        "\n",
        "karthik\n",
        "\n",
        "ati\n",
        "\n",
        "\n",
        "print(s[1:3:1])\n",
        "\n",
        "0123456\n",
        "\n",
        "karthik\n",
        "\n",
        "ar\n",
        "\n"
      ],
      "metadata": {
        "id": "0a7bvIKQPqmu"
      }
    },
    {
      "cell_type": "code",
      "source": [
        "string = \"karthikeya\"\n",
        "\n",
        "print(string[1:3])\n",
        "\n"
      ],
      "metadata": {
        "colab": {
          "base_uri": "https://localhost:8080/"
        },
        "id": "Lero9EyFPAw_",
        "outputId": "e1f807ab-d3b0-4685-a1d5-c6156421acf3"
      },
      "execution_count": 7,
      "outputs": [
        {
          "output_type": "stream",
          "name": "stdout",
          "text": [
            "ar\n"
          ]
        }
      ]
    },
    {
      "cell_type": "code",
      "source": [
        "s = \"karthik\"\n",
        "print(s[1:4])"
      ],
      "metadata": {
        "colab": {
          "base_uri": "https://localhost:8080/"
        },
        "id": "V7Z50d3LP-MY",
        "outputId": "7f917ba7-e61a-4eb7-a997-2f885b55dfe1"
      },
      "execution_count": 8,
      "outputs": [
        {
          "output_type": "stream",
          "name": "stdout",
          "text": [
            "art\n"
          ]
        }
      ]
    },
    {
      "cell_type": "code",
      "source": [
        "s = \"karthik\"\n",
        "print(s[1:-1])"
      ],
      "metadata": {
        "colab": {
          "base_uri": "https://localhost:8080/"
        },
        "id": "RgfX1zD-Qhyg",
        "outputId": "efc5960a-e596-48dc-e5b6-46e1dbec950e"
      },
      "execution_count": 9,
      "outputs": [
        {
          "output_type": "stream",
          "name": "stdout",
          "text": [
            "arthi\n"
          ]
        }
      ]
    },
    {
      "cell_type": "code",
      "source": [
        "print(s[:3])"
      ],
      "metadata": {
        "colab": {
          "base_uri": "https://localhost:8080/"
        },
        "id": "xzOf0Fz-Qp_j",
        "outputId": "6b47195a-9dba-4835-fca7-2980a1a330bf"
      },
      "execution_count": 10,
      "outputs": [
        {
          "output_type": "stream",
          "name": "stdout",
          "text": [
            "kar\n"
          ]
        }
      ]
    },
    {
      "cell_type": "code",
      "source": [
        "print(s[2:])"
      ],
      "metadata": {
        "colab": {
          "base_uri": "https://localhost:8080/"
        },
        "id": "Vv4Mn7x8Q2Y5",
        "outputId": "41c7f94a-d359-4e34-992d-fa2750a5470c"
      },
      "execution_count": 11,
      "outputs": [
        {
          "output_type": "stream",
          "name": "stdout",
          "text": [
            "rthik\n"
          ]
        }
      ]
    },
    {
      "cell_type": "code",
      "source": [
        "print(s[:-1])"
      ],
      "metadata": {
        "colab": {
          "base_uri": "https://localhost:8080/"
        },
        "id": "JQI8Dnl6RGLD",
        "outputId": "f8bb8ac0-d069-419a-c58b-d2061a869ff4"
      },
      "execution_count": 12,
      "outputs": [
        {
          "output_type": "stream",
          "name": "stdout",
          "text": [
            "karthi\n"
          ]
        }
      ]
    },
    {
      "cell_type": "code",
      "source": [
        "print(s[::2])"
      ],
      "metadata": {
        "colab": {
          "base_uri": "https://localhost:8080/"
        },
        "id": "NVWfa8whRGHv",
        "outputId": "eba99742-2aaa-4175-95c7-cc9a304f32c5"
      },
      "execution_count": 13,
      "outputs": [
        {
          "output_type": "stream",
          "name": "stdout",
          "text": [
            "krhk\n"
          ]
        }
      ]
    },
    {
      "cell_type": "code",
      "source": [
        "print(s[1::2])"
      ],
      "metadata": {
        "colab": {
          "base_uri": "https://localhost:8080/"
        },
        "id": "rvRtblbJRFSk",
        "outputId": "08efbaef-8938-4480-9d07-3cb73e120728"
      },
      "execution_count": 14,
      "outputs": [
        {
          "output_type": "stream",
          "name": "stdout",
          "text": [
            "ati\n"
          ]
        }
      ]
    },
    {
      "cell_type": "code",
      "source": [
        "print(s[1:3:1])"
      ],
      "metadata": {
        "colab": {
          "base_uri": "https://localhost:8080/"
        },
        "id": "jc6k__j5SQPp",
        "outputId": "ec0d8031-89b2-40f5-f2d3-97c6d2f9e88a"
      },
      "execution_count": 15,
      "outputs": [
        {
          "output_type": "stream",
          "name": "stdout",
          "text": [
            "ar\n"
          ]
        }
      ]
    },
    {
      "cell_type": "code",
      "source": [
        "print(s[::-1])"
      ],
      "metadata": {
        "colab": {
          "base_uri": "https://localhost:8080/"
        },
        "id": "rB_miAK-VHLH",
        "outputId": "275e191c-7ab7-4114-b3f9-23dd1f93b08f"
      },
      "execution_count": 16,
      "outputs": [
        {
          "output_type": "stream",
          "name": "stdout",
          "text": [
            "kihtrak\n"
          ]
        }
      ]
    },
    {
      "cell_type": "markdown",
      "source": [
        "string concatenation:\n",
        "\n",
        "a = \"karthik\"\n",
        "\n",
        "b = \"eya\"\n",
        "\n",
        "c= \"pasupula\"\n",
        "\n",
        "x = a+b+\"\"+c\n",
        "\n",
        "x=karthikeya pasupula\n"
      ],
      "metadata": {
        "id": "bDBqW2KQVYNF"
      }
    },
    {
      "cell_type": "code",
      "source": [
        "a = \"karthik\"\n",
        "\n",
        "b = \"eya\"\n",
        "\n",
        "c= \"pasupula\"\n",
        "\n",
        "x = a+b+\" \"+c\n",
        "\n",
        "print(x)"
      ],
      "metadata": {
        "colab": {
          "base_uri": "https://localhost:8080/"
        },
        "id": "pUfLXMNgVxqu",
        "outputId": "3c428a21-42bf-4daa-ca0b-e4b9b5a349ea"
      },
      "execution_count": 18,
      "outputs": [
        {
          "output_type": "stream",
          "name": "stdout",
          "text": [
            "karthikeya pasupula\n"
          ]
        }
      ]
    },
    {
      "cell_type": "markdown",
      "source": [
        "Length of string Concept:\n",
        "\n",
        "\n",
        "x = \"karthikeya\"\n",
        "\n",
        "print(len(x))\n",
        "\n",
        "10"
      ],
      "metadata": {
        "id": "ptHDg7LtV8If"
      }
    },
    {
      "cell_type": "code",
      "source": [
        "x = \"karthikeya\"\n",
        "\n",
        "print(len(x))"
      ],
      "metadata": {
        "colab": {
          "base_uri": "https://localhost:8080/"
        },
        "id": "QyC40hQpV7iP",
        "outputId": "a1858805-7e63-400e-82a0-16ccf237ff00"
      },
      "execution_count": 19,
      "outputs": [
        {
          "output_type": "stream",
          "name": "stdout",
          "text": [
            "10\n"
          ]
        }
      ]
    },
    {
      "cell_type": "markdown",
      "source": [
        "string methods:\n",
        "\n",
        "\n",
        "python provides numerous built in methods for manipulating string  such as converting , removing, whitespaces, replacing characters, splitting, joining\n",
        "\n",
        "s = \"karthik\"\n",
        "\n",
        "s1 = s.upper()\n",
        "\n",
        "s1 = s.lower()\n",
        "\n",
        "s1 = s.strip()\n",
        "\n",
        "s1 = s.replace('character which needs to be replaced', 'with replace')\n",
        "\n",
        "s1 = ('randomname'.count(character))"
      ],
      "metadata": {
        "id": "jz8_EuaEW16V"
      }
    },
    {
      "cell_type": "code",
      "source": [
        "s = \"karthikeya pasupula\"\n",
        "print(s.upper())\n",
        "print(s.lower())\n",
        "print(s.strip())\n",
        "print(s.replace('k','i'))\n",
        "print('karthik'.count('k'))"
      ],
      "metadata": {
        "colab": {
          "base_uri": "https://localhost:8080/"
        },
        "id": "yKKSTOiWWd7_",
        "outputId": "a6de7658-85a1-4af6-f062-193e23c2cff7"
      },
      "execution_count": 21,
      "outputs": [
        {
          "output_type": "stream",
          "name": "stdout",
          "text": [
            "KARTHIKEYA PASUPULA\n",
            "karthikeya pasupula\n",
            "karthikeya pasupula\n",
            "iarthiieya pasupula\n",
            "2\n"
          ]
        }
      ]
    },
    {
      "cell_type": "markdown",
      "source": [
        "string formatting:\n",
        "\n",
        "\n",
        "s=\"karthikeya\"\n",
        "\n",
        "print(f\" hi {s} , how are you.\")"
      ],
      "metadata": {
        "id": "o4BtKgP-ZD-A"
      }
    },
    {
      "cell_type": "code",
      "source": [
        "s=\"karthikeya\"\n",
        "\n",
        "print(f\" hi {s} , how are you.\")"
      ],
      "metadata": {
        "colab": {
          "base_uri": "https://localhost:8080/"
        },
        "id": "29XyW7uwZTpr",
        "outputId": "542b53b5-06b6-40cc-d1a6-7ea18488e1f3"
      },
      "execution_count": 22,
      "outputs": [
        {
          "output_type": "stream",
          "name": "stdout",
          "text": [
            " hi karthikeya , how are you.\n"
          ]
        }
      ]
    },
    {
      "cell_type": "markdown",
      "source": [
        "Escape Sequence:\n",
        "\n",
        "Generaaly if we to use ' in string value then it wont consider for example\n",
        "\n",
        "\n",
        "s='karthikeya's'\n",
        "\n",
        "Then it will condider only upto second '\n",
        "\n",
        "\n",
        "so at that time we need to use escape sequence \\'\n",
        "\n",
        "\n",
        "'karthikeya\\'s'\n",
        "\n",
        "\n",
        "if want to go to new line use  \\n"
      ],
      "metadata": {
        "id": "ntblx0lIaVc_"
      }
    },
    {
      "cell_type": "code",
      "source": [
        "print('It\\'s karthikeya world')"
      ],
      "metadata": {
        "colab": {
          "base_uri": "https://localhost:8080/"
        },
        "id": "VowAgppTbULq",
        "outputId": "0ce97b20-303d-4822-f2a6-7c9187c44668"
      },
      "execution_count": 24,
      "outputs": [
        {
          "output_type": "stream",
          "name": "stdout",
          "text": [
            "It 's karthikeya world\n"
          ]
        }
      ]
    },
    {
      "cell_type": "code",
      "source": [
        "print('It\\'s karthikeya \\n world')"
      ],
      "metadata": {
        "colab": {
          "base_uri": "https://localhost:8080/"
        },
        "id": "i64aAp46bjxS",
        "outputId": "d426ab9a-f702-4140-a4e3-b9237008c372"
      },
      "execution_count": 25,
      "outputs": [
        {
          "output_type": "stream",
          "name": "stdout",
          "text": [
            "It's karthikeya \n",
            " world\n"
          ]
        }
      ]
    }
  ]
}